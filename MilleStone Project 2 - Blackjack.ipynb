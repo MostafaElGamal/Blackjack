{
 "cells": [
  {
   "cell_type": "markdown",
   "metadata": {},
   "source": [
    "# Blackjack Game"
   ]
  },
  {
   "cell_type": "code",
   "execution_count": 1,
   "metadata": {
    "collapsed": false
   },
   "outputs": [],
   "source": [
    "import random "
   ]
  },
  {
   "cell_type": "code",
   "execution_count": 55,
   "metadata": {
    "collapsed": false
   },
   "outputs": [],
   "source": [
    "import random\n",
    "class House(object):\n",
    "    def __init__(self):\n",
    "        self.deck = [1, 2, 3, 4, 5, 6, 7, 8, 9, 10, 'K', 'Q', 'j']\n",
    "        self.house_card = [random.choice(self.deck), random.choice(self.deck)]\n",
    "        self.house_stach = 100\n",
    "        self.house_amount = 0\n",
    "    def house_win(self, amount):\n",
    "        self.house_stach += amount\n",
    "        \n",
    "    def house_lose(self, amount):\n",
    "        self.house_stach -= amount\n",
    "        \n",
    "    def count_house(self):\n",
    "        for num in self.house_card:\n",
    "            if num ==('K' or 'Q'or 'J'):\n",
    "                num = 10\n",
    "            self.house_amount += num\n",
    "        return self.house_amount   \n",
    "        \n",
    "    def house_hit(self):\n",
    "        card = random.choice(self.deck)\n",
    "        self.house_card.append(card)\n",
    "        print self.house_card\n",
    "        return self.house_card\n",
    "        \n",
    "class Player(House):\n",
    "    def __init__(self, player_bet):\n",
    "        super(Player, self).__init__()\n",
    "        self.player_bet = player_bet\n",
    "        self.player_card = [random.choice(self.deck), random.choice(self.deck)]\n",
    "        self.player_stach = 10\n",
    "        self.player_amount = 0\n",
    "        \n",
    "    def hit(self):\n",
    "        card = random.choice(self.deck)\n",
    "        self.player_card.append(card)\n",
    "        print self.player_card\n",
    "        return self.player_card\n",
    "    \n",
    "    def stand(self):\n",
    "        return self.player_card\n",
    "    \n",
    "    def player_win(self, amount):\n",
    "        self.player_stach += amount\n",
    "    \n",
    "    def player_lose(self, amount):\n",
    "        self.player_stach -= amount \n",
    "        \n",
    "    def count_card(self):\n",
    "        for num in self.player_card:\n",
    "            if num ==('K' or 'Q'or 'J'):\n",
    "                num = 10\n",
    "            self.player_card += num\n",
    "            return self.player_card  \n",
    "            \n",
    "       \n",
    "    \n",
    "class Blackjack(Player):\n",
    "    def __init__(self, player_bet):\n",
    "        super(Blackjack, self).__init__(player_bet)\n",
    "        #self.Game()\n",
    "    \n",
    "    def win_check(self):\n",
    "        if self.player_amount <= 21 and self.player_amount > self.house_amount:\n",
    "            print 'The Player Has won a .........:D',self.house_card\n",
    "            return self.player_win(self.player_bet*2)\n",
    "        elif self.house_amount <= 21 and self.house_amount > self.player_amount:\n",
    "            print 'The House Has Won',self.house_card\n",
    "            return self.house_win(self.player_bet)\n",
    "        elif self.player_amount == self.house_amount:\n",
    "            print \" Drow \",self.house_card\n",
    "        else:\n",
    "            print 'Play Agin'\n",
    "            \n",
    "    def Game(self):\n",
    "        while self.player_stach != 0:\n",
    "            print 'Your Cards (%s)'%(self.player_card)\n",
    "            print 'The House Cards (%s) '%(self.house_card[0])\n",
    "            \n",
    "            ask = raw_input('Do you want A Hit or Stand or Done ?').title()\n",
    "            if ask == 'Hit':\n",
    "                self.hit()\n",
    "            elif ask=='Stand':\n",
    "                self.stand()\n",
    "            elif ask == 'Done':\n",
    "                self.count_card()\n",
    "                self.count_house()\n",
    "                if self.house_amount < 17:\n",
    "                    self.house_hit()\n",
    "                self.win_check()\n",
    "                break\n",
    "            else:\n",
    "                print 'Please Choice the right....!'\n",
    "            \n",
    "            "
   ]
  },
  {
   "cell_type": "code",
   "execution_count": 56,
   "metadata": {
    "collapsed": false
   },
   "outputs": [],
   "source": [
    "x = Blackjack(10)\n",
    "# x.Game()"
   ]
  },
  {
   "cell_type": "code",
   "execution_count": 57,
   "metadata": {
    "collapsed": false
   },
   "outputs": [
    {
     "name": "stdout",
     "output_type": "stream",
     "text": [
      "[5, 7]\n",
      "[10, 'j']\n",
      "0\n"
     ]
    },
    {
     "ename": "TypeError",
     "evalue": "unsupported operand type(s) for +=: 'int' and 'str'",
     "output_type": "error",
     "traceback": [
      "\u001b[0;31m---------------------------------------------------------------------------\u001b[0m",
      "\u001b[0;31mTypeError\u001b[0m                                 Traceback (most recent call last)",
      "\u001b[0;32m<ipython-input-57-09ea6073440c>\u001b[0m in \u001b[0;36m<module>\u001b[0;34m()\u001b[0m\n\u001b[1;32m      2\u001b[0m \u001b[1;32mprint\u001b[0m \u001b[0mx\u001b[0m\u001b[1;33m.\u001b[0m\u001b[0mhouse_card\u001b[0m\u001b[1;33m\u001b[0m\u001b[0m\n\u001b[1;32m      3\u001b[0m \u001b[1;32mprint\u001b[0m \u001b[0mx\u001b[0m\u001b[1;33m.\u001b[0m\u001b[0mhouse_amount\u001b[0m\u001b[1;33m\u001b[0m\u001b[0m\n\u001b[0;32m----> 4\u001b[0;31m \u001b[1;32mprint\u001b[0m \u001b[0mx\u001b[0m\u001b[1;33m.\u001b[0m\u001b[0mcount_house\u001b[0m\u001b[1;33m(\u001b[0m\u001b[1;33m)\u001b[0m\u001b[1;33m\u001b[0m\u001b[0m\n\u001b[0m",
      "\u001b[0;32m<ipython-input-55-d2db77bdc0d7>\u001b[0m in \u001b[0;36mcount_house\u001b[0;34m(self)\u001b[0m\n\u001b[1;32m     16\u001b[0m             \u001b[1;32mif\u001b[0m \u001b[0mnum\u001b[0m \u001b[1;33m==\u001b[0m\u001b[1;33m(\u001b[0m\u001b[1;34m'K'\u001b[0m \u001b[1;32mor\u001b[0m \u001b[1;34m'Q'\u001b[0m\u001b[1;32mor\u001b[0m \u001b[1;34m'J'\u001b[0m\u001b[1;33m)\u001b[0m\u001b[1;33m:\u001b[0m\u001b[1;33m\u001b[0m\u001b[0m\n\u001b[1;32m     17\u001b[0m                 \u001b[0mnum\u001b[0m \u001b[1;33m=\u001b[0m \u001b[1;36m10\u001b[0m\u001b[1;33m\u001b[0m\u001b[0m\n\u001b[0;32m---> 18\u001b[0;31m             \u001b[0mself\u001b[0m\u001b[1;33m.\u001b[0m\u001b[0mhouse_amount\u001b[0m \u001b[1;33m+=\u001b[0m \u001b[0mnum\u001b[0m\u001b[1;33m\u001b[0m\u001b[0m\n\u001b[0m\u001b[1;32m     19\u001b[0m         \u001b[1;32mreturn\u001b[0m \u001b[0mself\u001b[0m\u001b[1;33m.\u001b[0m\u001b[0mhouse_amount\u001b[0m\u001b[1;33m\u001b[0m\u001b[0m\n\u001b[1;32m     20\u001b[0m \u001b[1;33m\u001b[0m\u001b[0m\n",
      "\u001b[0;31mTypeError\u001b[0m: unsupported operand type(s) for +=: 'int' and 'str'"
     ]
    }
   ],
   "source": [
    "print x.player_card\n",
    "print x.house_card\n",
    "print x.house_amount\n",
    "print x.count_house()"
   ]
  },
  {
   "cell_type": "code",
   "execution_count": 86,
   "metadata": {
    "collapsed": false
   },
   "outputs": [],
   "source": [
    "amount = 0\n",
    "def thing(lst):\n",
    "    for num in lst:\n",
    "        global amount\n",
    "        if num =='K' or 'Q' or 'J':\n",
    "            num = 10\n",
    "            amount += num\n",
    "        else:\n",
    "            print 'nothing'\n",
    "    return amount"
   ]
  },
  {
   "cell_type": "code",
   "execution_count": 90,
   "metadata": {
    "collapsed": false
   },
   "outputs": [
    {
     "data": {
      "text/plain": [
       "20"
      ]
     },
     "execution_count": 90,
     "metadata": {},
     "output_type": "execute_result"
    }
   ],
   "source": [
    "num = 0\n",
    "for x in ['J',1]:\n",
    "    if x == 'J'or 'Q':\n",
    "        x = 10\n",
    "    num+=x\n",
    "    \n",
    "num"
   ]
  },
  {
   "cell_type": "code",
   "execution_count": 8,
   "metadata": {
    "collapsed": false
   },
   "outputs": [
    {
     "name": "stdout",
     "output_type": "stream",
     "text": [
      "10\n",
      "10\n",
      "10\n"
     ]
    }
   ],
   "source": [
    "for x in ['Q','a' ,'K']:\n",
    "    if x =='Q' or 'J':\n",
    "        x = 10\n",
    "    print x"
   ]
  },
  {
   "cell_type": "code",
   "execution_count": null,
   "metadata": {
    "collapsed": true
   },
   "outputs": [],
   "source": []
  }
 ],
 "metadata": {
  "kernelspec": {
   "display_name": "Python 2",
   "language": "python",
   "name": "python2"
  },
  "language_info": {
   "codemirror_mode": {
    "name": "ipython",
    "version": 2
   },
   "file_extension": ".py",
   "mimetype": "text/x-python",
   "name": "python",
   "nbconvert_exporter": "python",
   "pygments_lexer": "ipython2",
   "version": "2.7.13"
  }
 },
 "nbformat": 4,
 "nbformat_minor": 2
}
